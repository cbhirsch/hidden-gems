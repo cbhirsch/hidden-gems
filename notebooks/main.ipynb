{
 "cells": [
  {
   "cell_type": "code",
   "execution_count": 4,
   "metadata": {},
   "outputs": [],
   "source": [
    "import os\n",
    "import re\n",
    "import json\n",
    "\n",
    "import requests\n",
    "import streamlit as st\n",
    "from groq import Groq\n",
    "from twelvelabs import TwelveLabs"
   ]
  },
  {
   "cell_type": "code",
   "execution_count": null,
   "metadata": {},
   "outputs": [],
   "source": [
    "class TrailMetadata:\n",
    "    def __init__(self):\n",
    "        self.trails = json.load(open(\"cotrex.json\"))\n",
    "\n",
    "    def get_trail_by_timestamp(self, seconds_timestamp):\n",
    "        minutes_timestamp = seconds_timestamp / 60\n",
    "        for trail in self.trails:\n",
    "            if trail[\"segment-start\"] <= minutes_timestamp < trail[\"segment-end\"]:\n",
    "                trail.pop(\"segment-start\")\n",
    "                trail.pop(\"segment-end\")\n",
    "                trail.pop(\"map-thumbnail\")\n",
    "                print(\"trail: \",trail)\n",
    "                return trail\n",
    "        return None"
   ]
  },
  {
   "cell_type": "code",
   "execution_count": 11,
   "metadata": {},
   "outputs": [],
   "source": [
    "class SearchResult:\n",
    "    def __init__(self, item, youtube_link):\n",
    "        self.thumbnail_url = item.thumbnail_url\n",
    "        self.local_thumbnail_path = get_local_thumbnail(self.thumbnail_url)\n",
    "        self.youtube_link = f\"{youtube_link}&t={item.start}s\"\n",
    "        self.metadata = item.metadata\n",
    "        self.start_time = item.start\n",
    "        self.youtube_embed = f\"\"\"\n",
    "        <embed width=“320” height=“240”\n",
    "        source src=“{self.youtube_link}” title=“YouTube video player” frameborder=“0” allow=“accelerometer; autoplay; clipboard-write; encrypted-media; gyroscope; picture-in-picture” allowfullscreen>\n",
    "        \"\"\"\n",
    "\n",
    "        trail_metadata = TrailMetadata()\n",
    "        trail_info = trail_metadata.get_trail_by_timestamp(self.start_time)\n",
    "        self.trail_info = trail_info\n",
    "\n",
    "    def __repr__(self):\n",
    "        str_repr = \"\"\n",
    "        str_repr += f\"thumbnail_url={self.thumbnail_url}\\n\"\n",
    "        str_repr += f\"youtube_link={self.youtube_link}\\n\"\n",
    "        str_repr += f\"metadata={self.metadata}\\n\"\n",
    "        str_repr += f\"local_thumbnail_path={self.local_thumbnail_path}\\n\"\n",
    "        str_repr += f\"youtube_embed={self.youtube_embed}\\n\"\n",
    "        str_repr += f\"start_time={self.start_time}\\n\"\n",
    "        str_repr += f\"trail_info={self.trail_info}\\n\"\n",
    "        return str_repr\n",
    "\n",
    "    def for_model(self):\n",
    "        return f\"\"\"{self.metadata}\n",
    "{self.trail_info}\n",
    "\"\"\""
   ]
  },
  {
   "cell_type": "code",
   "execution_count": 3,
   "metadata": {},
   "outputs": [
    {
     "name": "stdout",
     "output_type": "stream",
     "text": [
      "66ae787b6222fe7b53fd7880\n"
     ]
    }
   ],
   "source": [
    "TL_INDEX_ID = os.getenv(\"TL_INDEX_ID\")\n",
    "print(TL_INDEX_ID)"
   ]
  },
  {
   "cell_type": "code",
   "execution_count": null,
   "metadata": {},
   "outputs": [],
   "source": [
    "def search(\n",
    "        query,\n",
    "        index_id=TL_INDEX_ID,\n",
    "        options=[\"visual\", \"conversation\", \"text_in_video\"],\n",
    "        youtube_link=\"https://www.youtube.com/watch?v=KKeZPA-Gvs4\",\n",
    "        n=1,\n",
    ") -> SearchResult:\n",
    "    client = TwelveLabs(api_key=TL_INDEX_ID)\n",
    "    print(\"client:\", client)\n",
    "    result = client.search.query(\n",
    "        index_id=index_id,\n",
    "        query=query,\n",
    "        options=options,\n",
    "        page_limit=n,\n",
    "    )\n",
    "    print(\"result:\", result)\n",
    "\n",
    "    top_hit = result.data[0]\n",
    "    search_result = SearchResult(top_hit, youtube_link)\n",
    "\n",
    "    return search_result\n"
   ]
  }
 ],
 "metadata": {
  "kernelspec": {
   "display_name": "hidden-gems-Fzy-HQtB-py3.11",
   "language": "python",
   "name": "python3"
  },
  "language_info": {
   "codemirror_mode": {
    "name": "ipython",
    "version": 3
   },
   "file_extension": ".py",
   "mimetype": "text/x-python",
   "name": "python",
   "nbconvert_exporter": "python",
   "pygments_lexer": "ipython3",
   "version": "3.11.4"
  }
 },
 "nbformat": 4,
 "nbformat_minor": 2
}
